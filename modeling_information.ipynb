{
 "cells": [
  {
   "cell_type": "markdown",
   "metadata": {
    "colab_type": "text",
    "id": "DB0vv4pBcWu9"
   },
   "source": [
    "# Modeling"
   ]
  },
  {
   "cell_type": "markdown",
   "source": [
    "# Imports"
   ],
   "metadata": {
    "collapsed": false
   }
  },
  {
   "cell_type": "code",
   "execution_count": 1,
   "metadata": {
    "colab": {},
    "colab_type": "code",
    "id": "GalZFbfhcWvA"
   },
   "outputs": [],
   "source": [
    "#export\n",
    "import pkg_resources\n",
    "from pkg_resources import DistributionNotFound, VersionConflict\n",
    "from platform import python_version\n",
    "import numpy as np\n",
    "import pandas as pd\n",
    "import time\n",
    "import gc\n",
    "import random\n",
    "from sklearn.model_selection import cross_val_score, GridSearchCV, cross_validate, train_test_split\n",
    "from sklearn.metrics import accuracy_score, classification_report\n",
    "from sklearn.svm import SVC\n",
    "from sklearn.linear_model import LinearRegression\n",
    "from sklearn.neural_network import MLPClassifier\n",
    "from sklearn.ensemble import RandomForestClassifier\n",
    "from sklearn.preprocessing import StandardScaler, normalize\n",
    "from sklearn.decomposition import PCA\n",
    "from sklearn.impute import SimpleImputer\n",
    "from imblearn.over_sampling import SMOTE\n",
    "from sklearn.linear_model import LogisticRegression\n",
    "from scipy import stats\n",
    "import statsmodels.api as sm\n",
    "from sklearn.metrics import confusion_matrix"
   ]
  },
  {
   "cell_type": "markdown",
   "metadata": {
    "colab_type": "text",
    "id": "2Z1gV3UlcWvD"
   },
   "source": [
    "# Data Import\n",
    "Now for the fun stuff. Let’s import some data!"
   ]
  },
  {
   "cell_type": "markdown",
   "source": [
    "Clean Dirty Data"
   ],
   "metadata": {
    "collapsed": false,
    "pycharm": {
     "name": "#%% md\n"
    }
   }
  },
  {
   "cell_type": "code",
   "execution_count": 2,
   "outputs": [],
   "source": [
    "path1 = 'final_data.csv'\n",
    "dirty_data = pd.read_csv(path1)\n",
    "hours_traveled = dirty_data[~dirty_data['hours_traveled'].isna()]\n",
    "no_nulls = hours_traveled.fillna(0)\n",
    "less_dirty_data = pd.get_dummies(no_nulls, columns=['contracttypelocale','buildingtype',\"Max Type\"])\n",
    "less_dirty_data.to_csv('cleaned_final_data.csv')"
   ],
   "metadata": {
    "collapsed": false,
    "pycharm": {
     "name": "#%%\n"
    }
   }
  },
  {
   "cell_type": "code",
   "execution_count": 3,
   "outputs": [
    {
     "data": {
      "text/plain": "660"
     },
     "execution_count": 3,
     "metadata": {},
     "output_type": "execute_result"
    }
   ],
   "source": [
    "len(less_dirty_data)"
   ],
   "metadata": {
    "collapsed": false,
    "pycharm": {
     "name": "#%%\n"
    }
   }
  },
  {
   "cell_type": "markdown",
   "source": [
    "Create Funnel"
   ],
   "metadata": {
    "collapsed": false,
    "pycharm": {
     "name": "#%% md\n"
    }
   }
  },
  {
   "cell_type": "code",
   "execution_count": 2,
   "outputs": [],
   "source": [
    "path2 = 'cleaned_final_data.csv'\n",
    "# pd.read_csv(path2).columns\n",
    "features = [\n",
    "    'Has Max',\n",
    "    # 'Max Type_MAX Pro',\n",
    "    # 'Max Type_MAX Digital Subscription for NIM',\n",
    "    'hours_traveled',\n",
    "    'User_Gen_Alerts',\n",
    "    'Non_User_Gen_Alerts',\n",
    "    'tickets',\n",
    "    'ticket_hours',\n",
    "    'contracttypelocale_Bronze',\n",
    "    'contracttypelocale_Bronze w/ Phone Monitoring',\n",
    "    'contracttypelocale_Gold',\n",
    "    'contracttypelocale_Gold w/ Phone Monitoring', 'contracttypelocale_NIM',\n",
    "    'contracttypelocale_Platinum',\n",
    "    'contracttypelocale_Platinum Premiere w/ Phone Monitoring',\n",
    "    'contracttypelocale_Platinum w/ Phone Monitoring', 'buildingtype_0',\n",
    "    'buildingtype_Education / Religion',\n",
    "    'buildingtype_Entertainment / Leisure',\n",
    "    'buildingtype_Hospital / Healthcare', 'buildingtype_Hotel / Restaurant',\n",
    "    'buildingtype_Industrial', 'buildingtype_Mixed-Use Buildings',\n",
    "    'buildingtype_Office', 'buildingtype_Parking Garage',\n",
    "    'buildingtype_Private Residential - Comfort *',\n",
    "    'buildingtype_Private Residential - Premium *', 'buildingtype_Retail']\n",
    "    # 'ContractTypeLocale_Bronze',\n",
    "    # 'ContractTypeLocale_Bronze w/ Phone Monitoring',\n",
    "    # 'ContractTypeLocale_Gold',\n",
    "    # 'ContractTypeLocale_Gold w/ Phone Monitoring',\n",
    "    # 'ContractTypeLocale_NIM',\n",
    "    # 'ContractTypeLocale_Platinum',\n",
    "    # 'ContractTypeLocale_Platinum Premiere w/ Phone Monitoring',\n",
    "    # 'ContractTypeLocale_Platinum w/ Phone Monitoring',\n"
   ],
   "metadata": {
    "collapsed": false,
    "pycharm": {
     "name": "#%%\n"
    }
   }
  },
  {
   "cell_type": "code",
   "execution_count": 3,
   "metadata": {
    "colab": {},
    "colab_type": "code",
    "id": "9VS44b2kcWvE"
   },
   "outputs": [
    {
     "name": "stdout",
     "output_type": "stream",
     "text": [
      "Allocation complete\n",
      "length of actual training data is  495\n",
      "length of oversampled data is  750\n",
      "Number of 'not renewed' in oversampled data 375\n",
      "Number of 'not renewed' in actual training data 120\n",
      "Proportion of 'not renewed' data in oversampled data is  0.5\n",
      "Proportion of 'not renewed' data in actual training data is  0.24242424242424243\n",
      "Train/Test split complete\n"
     ]
    }
   ],
   "source": [
    "#export\n",
    "class Data():\n",
    "    def __init__(self):\n",
    "        self.x_data = None\n",
    "        self.y_data = None\n",
    "        self.x_train = None\n",
    "        self.y_train = None\n",
    "        self.x_test = None\n",
    "        self.y_test = None\n",
    "\n",
    "    def dataAllocation(self,path):\n",
    "        # TODO: Separate out the x_data and y_data and return each\n",
    "        # args: string path for .csv file\n",
    "        # return: pandas dataframe, pandas series\n",
    "        # -------------------------------\n",
    "        all_data = pd.read_csv(path)\n",
    "        x_data = all_data[features]\n",
    "        y_data = all_data['renewed']\n",
    "        # -------------------------------\n",
    "\n",
    "        self.x_data = x_data\n",
    "        self.y_data = y_data\n",
    "        print('Allocation complete')\n",
    "\n",
    "    def trainSets(self):\n",
    "        # TODO: Split 75% of the data into training and 25% into test sets. Call them x_train, x_test, y_train and y_test.\n",
    "        # Use the train_test_split method in sklearn with the parameter 'shuffle' set to true and the 'random_state' set to 614.\n",
    "        # args: pandas dataframe, pandas dataframe\n",
    "        # return: pandas dataframe, pandas dataframe, pandas series, pandas series\n",
    "        # -------------------------------\n",
    "        os = SMOTE(random_state=0)\n",
    "        x_train, x_test, y_train, y_test = train_test_split(self.x_data,self.y_data, test_size=0.25, train_size=None, random_state=614, shuffle=True, stratify=None)\n",
    "        os_data_x,os_data_y=os.fit_resample(x_train, y_train)\n",
    "        os_data_x = pd.DataFrame(data=os_data_x,columns=features)\n",
    "        os_data_y = pd.DataFrame(data=os_data_y,columns=['renewed'])['renewed']\n",
    "        # Check that data was oversampled correctly\n",
    "        print(\"length of actual training data is \",len(y_train))\n",
    "        print(\"length of oversampled data is \",len(os_data_x))\n",
    "        print(\"Number of 'not renewed' in oversampled data\",len(os_data_y[os_data_y==0]))\n",
    "        print(\"Number of 'not renewed' in actual training data\",len(y_train[y_train==0]))\n",
    "        print(\"Proportion of 'not renewed' data in oversampled data is \",len(os_data_y[os_data_y==0])/len(os_data_x))\n",
    "        print(\"Proportion of 'not renewed' data in actual training data is \",len(y_train[y_train==0])/len(y_train))\n",
    "        # -------------------------------\n",
    "        self.x_train = os_data_x\n",
    "        self.x_test = x_test\n",
    "        self.y_train = os_data_y\n",
    "        self.y_test = y_test\n",
    "        print('Train/Test split complete')\n",
    "##################################################\n",
    "##### Do not add anything below this line ########\n",
    "data = Data()\n",
    "data.dataAllocation(path2)\n",
    "data.trainSets()\n",
    "##################################################"
   ]
  },
  {
   "cell_type": "code",
   "execution_count": 5,
   "outputs": [
    {
     "data": {
      "text/plain": "<pandas.io.formats.style.Styler at 0x12eb8bc50>",
      "text/html": "<style  type=\"text/css\" >\n#T_0cd11d5c_bb4f_11ec_b668_acde48001122row0_col0,#T_0cd11d5c_bb4f_11ec_b668_acde48001122row1_col1,#T_0cd11d5c_bb4f_11ec_b668_acde48001122row2_col2,#T_0cd11d5c_bb4f_11ec_b668_acde48001122row3_col3,#T_0cd11d5c_bb4f_11ec_b668_acde48001122row4_col4,#T_0cd11d5c_bb4f_11ec_b668_acde48001122row5_col5,#T_0cd11d5c_bb4f_11ec_b668_acde48001122row6_col6{\n            background-color:  #b40426;\n            color:  #f1f1f1;\n        }#T_0cd11d5c_bb4f_11ec_b668_acde48001122row0_col1{\n            background-color:  #3f53c6;\n            color:  #f1f1f1;\n        }#T_0cd11d5c_bb4f_11ec_b668_acde48001122row0_col2,#T_0cd11d5c_bb4f_11ec_b668_acde48001122row0_col5,#T_0cd11d5c_bb4f_11ec_b668_acde48001122row2_col0,#T_0cd11d5c_bb4f_11ec_b668_acde48001122row3_col6,#T_0cd11d5c_bb4f_11ec_b668_acde48001122row4_col6,#T_0cd11d5c_bb4f_11ec_b668_acde48001122row6_col1,#T_0cd11d5c_bb4f_11ec_b668_acde48001122row6_col3,#T_0cd11d5c_bb4f_11ec_b668_acde48001122row6_col4{\n            background-color:  #3b4cc0;\n            color:  #f1f1f1;\n        }#T_0cd11d5c_bb4f_11ec_b668_acde48001122row0_col3{\n            background-color:  #4961d2;\n            color:  #f1f1f1;\n        }#T_0cd11d5c_bb4f_11ec_b668_acde48001122row0_col4{\n            background-color:  #3e51c5;\n            color:  #f1f1f1;\n        }#T_0cd11d5c_bb4f_11ec_b668_acde48001122row0_col6,#T_0cd11d5c_bb4f_11ec_b668_acde48001122row1_col2{\n            background-color:  #7a9df8;\n            color:  #000000;\n        }#T_0cd11d5c_bb4f_11ec_b668_acde48001122row1_col0{\n            background-color:  #4e68d8;\n            color:  #000000;\n        }#T_0cd11d5c_bb4f_11ec_b668_acde48001122row1_col3,#T_0cd11d5c_bb4f_11ec_b668_acde48001122row1_col4{\n            background-color:  #7597f6;\n            color:  #000000;\n        }#T_0cd11d5c_bb4f_11ec_b668_acde48001122row1_col5{\n            background-color:  #4b64d5;\n            color:  #f1f1f1;\n        }#T_0cd11d5c_bb4f_11ec_b668_acde48001122row1_col6{\n            background-color:  #455cce;\n            color:  #f1f1f1;\n        }#T_0cd11d5c_bb4f_11ec_b668_acde48001122row2_col1{\n            background-color:  #6c8ff1;\n            color:  #000000;\n        }#T_0cd11d5c_bb4f_11ec_b668_acde48001122row2_col3,#T_0cd11d5c_bb4f_11ec_b668_acde48001122row5_col4{\n            background-color:  #f0cdbb;\n            color:  #000000;\n        }#T_0cd11d5c_bb4f_11ec_b668_acde48001122row2_col4{\n            background-color:  #c7d7f0;\n            color:  #000000;\n        }#T_0cd11d5c_bb4f_11ec_b668_acde48001122row2_col5{\n            background-color:  #81a4fb;\n            color:  #000000;\n        }#T_0cd11d5c_bb4f_11ec_b668_acde48001122row2_col6{\n            background-color:  #516ddb;\n            color:  #000000;\n        }#T_0cd11d5c_bb4f_11ec_b668_acde48001122row3_col0,#T_0cd11d5c_bb4f_11ec_b668_acde48001122row5_col1{\n            background-color:  #4c66d6;\n            color:  #000000;\n        }#T_0cd11d5c_bb4f_11ec_b668_acde48001122row3_col1{\n            background-color:  #6a8bef;\n            color:  #000000;\n        }#T_0cd11d5c_bb4f_11ec_b668_acde48001122row3_col2{\n            background-color:  #f1cdba;\n            color:  #000000;\n        }#T_0cd11d5c_bb4f_11ec_b668_acde48001122row3_col4,#T_0cd11d5c_bb4f_11ec_b668_acde48001122row4_col3{\n            background-color:  #e7d7ce;\n            color:  #000000;\n        }#T_0cd11d5c_bb4f_11ec_b668_acde48001122row3_col5{\n            background-color:  #9ebeff;\n            color:  #000000;\n        }#T_0cd11d5c_bb4f_11ec_b668_acde48001122row4_col0{\n            background-color:  #4257c9;\n            color:  #f1f1f1;\n        }#T_0cd11d5c_bb4f_11ec_b668_acde48001122row4_col1{\n            background-color:  #688aef;\n            color:  #000000;\n        }#T_0cd11d5c_bb4f_11ec_b668_acde48001122row4_col2{\n            background-color:  #c9d7f0;\n            color:  #000000;\n        }#T_0cd11d5c_bb4f_11ec_b668_acde48001122row4_col5{\n            background-color:  #edd2c3;\n            color:  #000000;\n        }#T_0cd11d5c_bb4f_11ec_b668_acde48001122row5_col0{\n            background-color:  #4a63d3;\n            color:  #f1f1f1;\n        }#T_0cd11d5c_bb4f_11ec_b668_acde48001122row5_col2{\n            background-color:  #90b2fe;\n            color:  #000000;\n        }#T_0cd11d5c_bb4f_11ec_b668_acde48001122row5_col3{\n            background-color:  #a9c6fd;\n            color:  #000000;\n        }#T_0cd11d5c_bb4f_11ec_b668_acde48001122row5_col6{\n            background-color:  #5470de;\n            color:  #000000;\n        }#T_0cd11d5c_bb4f_11ec_b668_acde48001122row6_col0{\n            background-color:  #7ea1fa;\n            color:  #000000;\n        }#T_0cd11d5c_bb4f_11ec_b668_acde48001122row6_col2{\n            background-color:  #5572df;\n            color:  #000000;\n        }#T_0cd11d5c_bb4f_11ec_b668_acde48001122row6_col5{\n            background-color:  #465ecf;\n            color:  #f1f1f1;\n        }</style><table id=\"T_0cd11d5c_bb4f_11ec_b668_acde48001122\" ><thead>    <tr>        <th class=\"blank level0\" ></th>        <th class=\"col_heading level0 col0\" >Has Max</th>        <th class=\"col_heading level0 col1\" >hours_traveled</th>        <th class=\"col_heading level0 col2\" >User_Gen_Alerts</th>        <th class=\"col_heading level0 col3\" >Non_User_Gen_Alerts</th>        <th class=\"col_heading level0 col4\" >tickets</th>        <th class=\"col_heading level0 col5\" >ticket_hours</th>        <th class=\"col_heading level0 col6\" >buildingtype_Office</th>    </tr></thead><tbody>\n                <tr>\n                        <th id=\"T_0cd11d5c_bb4f_11ec_b668_acde48001122level0_row0\" class=\"row_heading level0 row0\" >Has Max</th>\n                        <td id=\"T_0cd11d5c_bb4f_11ec_b668_acde48001122row0_col0\" class=\"data row0 col0\" >1.00</td>\n                        <td id=\"T_0cd11d5c_bb4f_11ec_b668_acde48001122row0_col1\" class=\"data row0 col1\" >-0.02</td>\n                        <td id=\"T_0cd11d5c_bb4f_11ec_b668_acde48001122row0_col2\" class=\"data row0 col2\" >-0.09</td>\n                        <td id=\"T_0cd11d5c_bb4f_11ec_b668_acde48001122row0_col3\" class=\"data row0 col3\" >-0.03</td>\n                        <td id=\"T_0cd11d5c_bb4f_11ec_b668_acde48001122row0_col4\" class=\"data row0 col4\" >-0.07</td>\n                        <td id=\"T_0cd11d5c_bb4f_11ec_b668_acde48001122row0_col5\" class=\"data row0 col5\" >-0.03</td>\n                        <td id=\"T_0cd11d5c_bb4f_11ec_b668_acde48001122row0_col6\" class=\"data row0 col6\" >0.13</td>\n            </tr>\n            <tr>\n                        <th id=\"T_0cd11d5c_bb4f_11ec_b668_acde48001122level0_row1\" class=\"row_heading level0 row1\" >hours_traveled</th>\n                        <td id=\"T_0cd11d5c_bb4f_11ec_b668_acde48001122row1_col0\" class=\"data row1 col0\" >-0.02</td>\n                        <td id=\"T_0cd11d5c_bb4f_11ec_b668_acde48001122row1_col1\" class=\"data row1 col1\" >1.00</td>\n                        <td id=\"T_0cd11d5c_bb4f_11ec_b668_acde48001122row1_col2\" class=\"data row1 col2\" >0.13</td>\n                        <td id=\"T_0cd11d5c_bb4f_11ec_b668_acde48001122row1_col3\" class=\"data row1 col3\" >0.12</td>\n                        <td id=\"T_0cd11d5c_bb4f_11ec_b668_acde48001122row1_col4\" class=\"data row1 col4\" >0.12</td>\n                        <td id=\"T_0cd11d5c_bb4f_11ec_b668_acde48001122row1_col5\" class=\"data row1 col5\" >0.03</td>\n                        <td id=\"T_0cd11d5c_bb4f_11ec_b668_acde48001122row1_col6\" class=\"data row1 col6\" >-0.04</td>\n            </tr>\n            <tr>\n                        <th id=\"T_0cd11d5c_bb4f_11ec_b668_acde48001122level0_row2\" class=\"row_heading level0 row2\" >User_Gen_Alerts</th>\n                        <td id=\"T_0cd11d5c_bb4f_11ec_b668_acde48001122row2_col0\" class=\"data row2 col0\" >-0.09</td>\n                        <td id=\"T_0cd11d5c_bb4f_11ec_b668_acde48001122row2_col1\" class=\"data row2 col1\" >0.13</td>\n                        <td id=\"T_0cd11d5c_bb4f_11ec_b668_acde48001122row2_col2\" class=\"data row2 col2\" >1.00</td>\n                        <td id=\"T_0cd11d5c_bb4f_11ec_b668_acde48001122row2_col3\" class=\"data row2 col3\" >0.55</td>\n                        <td id=\"T_0cd11d5c_bb4f_11ec_b668_acde48001122row2_col4\" class=\"data row2 col4\" >0.38</td>\n                        <td id=\"T_0cd11d5c_bb4f_11ec_b668_acde48001122row2_col5\" class=\"data row2 col5\" >0.19</td>\n                        <td id=\"T_0cd11d5c_bb4f_11ec_b668_acde48001122row2_col6\" class=\"data row2 col6\" >0.00</td>\n            </tr>\n            <tr>\n                        <th id=\"T_0cd11d5c_bb4f_11ec_b668_acde48001122level0_row3\" class=\"row_heading level0 row3\" >Non_User_Gen_Alerts</th>\n                        <td id=\"T_0cd11d5c_bb4f_11ec_b668_acde48001122row3_col0\" class=\"data row3 col0\" >-0.03</td>\n                        <td id=\"T_0cd11d5c_bb4f_11ec_b668_acde48001122row3_col1\" class=\"data row3 col1\" >0.12</td>\n                        <td id=\"T_0cd11d5c_bb4f_11ec_b668_acde48001122row3_col2\" class=\"data row3 col2\" >0.55</td>\n                        <td id=\"T_0cd11d5c_bb4f_11ec_b668_acde48001122row3_col3\" class=\"data row3 col3\" >1.00</td>\n                        <td id=\"T_0cd11d5c_bb4f_11ec_b668_acde48001122row3_col4\" class=\"data row3 col4\" >0.51</td>\n                        <td id=\"T_0cd11d5c_bb4f_11ec_b668_acde48001122row3_col5\" class=\"data row3 col5\" >0.28</td>\n                        <td id=\"T_0cd11d5c_bb4f_11ec_b668_acde48001122row3_col6\" class=\"data row3 col6\" >-0.08</td>\n            </tr>\n            <tr>\n                        <th id=\"T_0cd11d5c_bb4f_11ec_b668_acde48001122level0_row4\" class=\"row_heading level0 row4\" >tickets</th>\n                        <td id=\"T_0cd11d5c_bb4f_11ec_b668_acde48001122row4_col0\" class=\"data row4 col0\" >-0.07</td>\n                        <td id=\"T_0cd11d5c_bb4f_11ec_b668_acde48001122row4_col1\" class=\"data row4 col1\" >0.12</td>\n                        <td id=\"T_0cd11d5c_bb4f_11ec_b668_acde48001122row4_col2\" class=\"data row4 col2\" >0.38</td>\n                        <td id=\"T_0cd11d5c_bb4f_11ec_b668_acde48001122row4_col3\" class=\"data row4 col3\" >0.51</td>\n                        <td id=\"T_0cd11d5c_bb4f_11ec_b668_acde48001122row4_col4\" class=\"data row4 col4\" >1.00</td>\n                        <td id=\"T_0cd11d5c_bb4f_11ec_b668_acde48001122row4_col5\" class=\"data row4 col5\" >0.55</td>\n                        <td id=\"T_0cd11d5c_bb4f_11ec_b668_acde48001122row4_col6\" class=\"data row4 col6\" >-0.08</td>\n            </tr>\n            <tr>\n                        <th id=\"T_0cd11d5c_bb4f_11ec_b668_acde48001122level0_row5\" class=\"row_heading level0 row5\" >ticket_hours</th>\n                        <td id=\"T_0cd11d5c_bb4f_11ec_b668_acde48001122row5_col0\" class=\"data row5 col0\" >-0.03</td>\n                        <td id=\"T_0cd11d5c_bb4f_11ec_b668_acde48001122row5_col1\" class=\"data row5 col1\" >0.03</td>\n                        <td id=\"T_0cd11d5c_bb4f_11ec_b668_acde48001122row5_col2\" class=\"data row5 col2\" >0.19</td>\n                        <td id=\"T_0cd11d5c_bb4f_11ec_b668_acde48001122row5_col3\" class=\"data row5 col3\" >0.28</td>\n                        <td id=\"T_0cd11d5c_bb4f_11ec_b668_acde48001122row5_col4\" class=\"data row5 col4\" >0.55</td>\n                        <td id=\"T_0cd11d5c_bb4f_11ec_b668_acde48001122row5_col5\" class=\"data row5 col5\" >1.00</td>\n                        <td id=\"T_0cd11d5c_bb4f_11ec_b668_acde48001122row5_col6\" class=\"data row5 col6\" >0.01</td>\n            </tr>\n            <tr>\n                        <th id=\"T_0cd11d5c_bb4f_11ec_b668_acde48001122level0_row6\" class=\"row_heading level0 row6\" >buildingtype_Office</th>\n                        <td id=\"T_0cd11d5c_bb4f_11ec_b668_acde48001122row6_col0\" class=\"data row6 col0\" >0.13</td>\n                        <td id=\"T_0cd11d5c_bb4f_11ec_b668_acde48001122row6_col1\" class=\"data row6 col1\" >-0.04</td>\n                        <td id=\"T_0cd11d5c_bb4f_11ec_b668_acde48001122row6_col2\" class=\"data row6 col2\" >0.00</td>\n                        <td id=\"T_0cd11d5c_bb4f_11ec_b668_acde48001122row6_col3\" class=\"data row6 col3\" >-0.08</td>\n                        <td id=\"T_0cd11d5c_bb4f_11ec_b668_acde48001122row6_col4\" class=\"data row6 col4\" >-0.08</td>\n                        <td id=\"T_0cd11d5c_bb4f_11ec_b668_acde48001122row6_col5\" class=\"data row6 col5\" >0.01</td>\n                        <td id=\"T_0cd11d5c_bb4f_11ec_b668_acde48001122row6_col6\" class=\"data row6 col6\" >1.00</td>\n            </tr>\n    </tbody></table>"
     },
     "execution_count": 5,
     "metadata": {},
     "output_type": "execute_result"
    }
   ],
   "source": [
    "# data.x_train.to_csv('train_x.csv')\n",
    "# data.y_train.to_csv('train_y.csv')\n",
    "# data.x_test.to_csv('test_x.csv')\n",
    "# data.y_test.to_csv('test_y.csv')\n",
    "corr = data.x_train[\n",
    "    ['Has Max',\n",
    "    'hours_traveled',\n",
    "    'User_Gen_Alerts',\n",
    "    'Non_User_Gen_Alerts',\n",
    "    'tickets',\n",
    "    'ticket_hours',\n",
    "    'buildingtype_Office']\n",
    "].corr()\n",
    "corr.style.background_gradient(cmap='coolwarm').set_precision(2)"
   ],
   "metadata": {
    "collapsed": false,
    "pycharm": {
     "name": "#%%\n"
    }
   }
  },
  {
   "cell_type": "code",
   "execution_count": 16,
   "outputs": [
    {
     "data": {
      "application/vnd.plotly.v1+json": {
       "config": {
        "plotlyServerURL": "https://plot.ly"
       },
       "data": [
        {
         "coloraxis": "coloraxis",
         "hovertemplate": "x: %{x}<br>y: %{y}<br>color: %{z}<extra></extra>",
         "name": "0",
         "type": "heatmap",
         "x": [
          "Has Max",
          "hours_traveled",
          "User_Gen_Alerts",
          "Non_User_Gen_Alerts",
          "tickets",
          "ticket_hours",
          "buildingtype_Office"
         ],
         "xaxis": "x",
         "y": [
          "Has Max",
          "hours_traveled",
          "User_Gen_Alerts",
          "Non_User_Gen_Alerts",
          "tickets",
          "ticket_hours",
          "buildingtype_Office"
         ],
         "yaxis": "y",
         "z": [
          [
           1.0,
           -0.021807243743313588,
           -0.0917317498023904,
           -0.026359700079525823,
           -0.06546799083023494,
           -0.032260187896244776,
           0.13429254134883653
          ],
          [
           -0.021807243743313588,
           1.0,
           0.12535207036291338,
           0.11605051184528159,
           0.1151515963880757,
           0.02531931734759472,
           -0.03817513537070039
          ],
          [
           -0.0917317498023904,
           0.12535207036291338,
           1.0,
           0.5537574716690625,
           0.3767473517808032,
           0.1924890048364577,
           0.0031623675986705777
          ],
          [
           -0.026359700079525823,
           0.11605051184528159,
           0.5537574716690625,
           1.0,
           0.50507488171464,
           0.2760364253670258,
           -0.07773416525894963
          ],
          [
           -0.06546799083023494,
           0.1151515963880757,
           0.3767473517808032,
           0.50507488171464,
           1.0,
           0.5547183481398773,
           -0.08032185672585933
          ],
          [
           -0.032260187896244776,
           0.02531931734759472,
           0.1924890048364577,
           0.2760364253670258,
           0.5547183481398773,
           1.0,
           0.008936690379114412
          ],
          [
           0.13429254134883653,
           -0.03817513537070039,
           0.0031623675986705777,
           -0.07773416525894963,
           -0.08032185672585933,
           0.008936690379114412,
           1.0
          ]
         ]
        }
       ],
       "layout": {
        "coloraxis": {
         "colorscale": [
          [
           0.0,
           "#0d0887"
          ],
          [
           0.1111111111111111,
           "#46039f"
          ],
          [
           0.2222222222222222,
           "#7201a8"
          ],
          [
           0.3333333333333333,
           "#9c179e"
          ],
          [
           0.4444444444444444,
           "#bd3786"
          ],
          [
           0.5555555555555556,
           "#d8576b"
          ],
          [
           0.6666666666666666,
           "#ed7953"
          ],
          [
           0.7777777777777778,
           "#fb9f3a"
          ],
          [
           0.8888888888888888,
           "#fdca26"
          ],
          [
           1.0,
           "#f0f921"
          ]
         ]
        },
        "margin": {
         "t": 60
        },
        "template": {
         "data": {
          "bar": [
           {
            "error_x": {
             "color": "#2a3f5f"
            },
            "error_y": {
             "color": "#2a3f5f"
            },
            "marker": {
             "line": {
              "color": "#E5ECF6",
              "width": 0.5
             },
             "pattern": {
              "fillmode": "overlay",
              "size": 10,
              "solidity": 0.2
             }
            },
            "type": "bar"
           }
          ],
          "barpolar": [
           {
            "marker": {
             "line": {
              "color": "#E5ECF6",
              "width": 0.5
             },
             "pattern": {
              "fillmode": "overlay",
              "size": 10,
              "solidity": 0.2
             }
            },
            "type": "barpolar"
           }
          ],
          "carpet": [
           {
            "aaxis": {
             "endlinecolor": "#2a3f5f",
             "gridcolor": "white",
             "linecolor": "white",
             "minorgridcolor": "white",
             "startlinecolor": "#2a3f5f"
            },
            "baxis": {
             "endlinecolor": "#2a3f5f",
             "gridcolor": "white",
             "linecolor": "white",
             "minorgridcolor": "white",
             "startlinecolor": "#2a3f5f"
            },
            "type": "carpet"
           }
          ],
          "choropleth": [
           {
            "colorbar": {
             "outlinewidth": 0,
             "ticks": ""
            },
            "type": "choropleth"
           }
          ],
          "contour": [
           {
            "colorbar": {
             "outlinewidth": 0,
             "ticks": ""
            },
            "colorscale": [
             [
              0.0,
              "#0d0887"
             ],
             [
              0.1111111111111111,
              "#46039f"
             ],
             [
              0.2222222222222222,
              "#7201a8"
             ],
             [
              0.3333333333333333,
              "#9c179e"
             ],
             [
              0.4444444444444444,
              "#bd3786"
             ],
             [
              0.5555555555555556,
              "#d8576b"
             ],
             [
              0.6666666666666666,
              "#ed7953"
             ],
             [
              0.7777777777777778,
              "#fb9f3a"
             ],
             [
              0.8888888888888888,
              "#fdca26"
             ],
             [
              1.0,
              "#f0f921"
             ]
            ],
            "type": "contour"
           }
          ],
          "contourcarpet": [
           {
            "colorbar": {
             "outlinewidth": 0,
             "ticks": ""
            },
            "type": "contourcarpet"
           }
          ],
          "heatmap": [
           {
            "colorbar": {
             "outlinewidth": 0,
             "ticks": ""
            },
            "colorscale": [
             [
              0.0,
              "#0d0887"
             ],
             [
              0.1111111111111111,
              "#46039f"
             ],
             [
              0.2222222222222222,
              "#7201a8"
             ],
             [
              0.3333333333333333,
              "#9c179e"
             ],
             [
              0.4444444444444444,
              "#bd3786"
             ],
             [
              0.5555555555555556,
              "#d8576b"
             ],
             [
              0.6666666666666666,
              "#ed7953"
             ],
             [
              0.7777777777777778,
              "#fb9f3a"
             ],
             [
              0.8888888888888888,
              "#fdca26"
             ],
             [
              1.0,
              "#f0f921"
             ]
            ],
            "type": "heatmap"
           }
          ],
          "heatmapgl": [
           {
            "colorbar": {
             "outlinewidth": 0,
             "ticks": ""
            },
            "colorscale": [
             [
              0.0,
              "#0d0887"
             ],
             [
              0.1111111111111111,
              "#46039f"
             ],
             [
              0.2222222222222222,
              "#7201a8"
             ],
             [
              0.3333333333333333,
              "#9c179e"
             ],
             [
              0.4444444444444444,
              "#bd3786"
             ],
             [
              0.5555555555555556,
              "#d8576b"
             ],
             [
              0.6666666666666666,
              "#ed7953"
             ],
             [
              0.7777777777777778,
              "#fb9f3a"
             ],
             [
              0.8888888888888888,
              "#fdca26"
             ],
             [
              1.0,
              "#f0f921"
             ]
            ],
            "type": "heatmapgl"
           }
          ],
          "histogram": [
           {
            "marker": {
             "pattern": {
              "fillmode": "overlay",
              "size": 10,
              "solidity": 0.2
             }
            },
            "type": "histogram"
           }
          ],
          "histogram2d": [
           {
            "colorbar": {
             "outlinewidth": 0,
             "ticks": ""
            },
            "colorscale": [
             [
              0.0,
              "#0d0887"
             ],
             [
              0.1111111111111111,
              "#46039f"
             ],
             [
              0.2222222222222222,
              "#7201a8"
             ],
             [
              0.3333333333333333,
              "#9c179e"
             ],
             [
              0.4444444444444444,
              "#bd3786"
             ],
             [
              0.5555555555555556,
              "#d8576b"
             ],
             [
              0.6666666666666666,
              "#ed7953"
             ],
             [
              0.7777777777777778,
              "#fb9f3a"
             ],
             [
              0.8888888888888888,
              "#fdca26"
             ],
             [
              1.0,
              "#f0f921"
             ]
            ],
            "type": "histogram2d"
           }
          ],
          "histogram2dcontour": [
           {
            "colorbar": {
             "outlinewidth": 0,
             "ticks": ""
            },
            "colorscale": [
             [
              0.0,
              "#0d0887"
             ],
             [
              0.1111111111111111,
              "#46039f"
             ],
             [
              0.2222222222222222,
              "#7201a8"
             ],
             [
              0.3333333333333333,
              "#9c179e"
             ],
             [
              0.4444444444444444,
              "#bd3786"
             ],
             [
              0.5555555555555556,
              "#d8576b"
             ],
             [
              0.6666666666666666,
              "#ed7953"
             ],
             [
              0.7777777777777778,
              "#fb9f3a"
             ],
             [
              0.8888888888888888,
              "#fdca26"
             ],
             [
              1.0,
              "#f0f921"
             ]
            ],
            "type": "histogram2dcontour"
           }
          ],
          "mesh3d": [
           {
            "colorbar": {
             "outlinewidth": 0,
             "ticks": ""
            },
            "type": "mesh3d"
           }
          ],
          "parcoords": [
           {
            "line": {
             "colorbar": {
              "outlinewidth": 0,
              "ticks": ""
             }
            },
            "type": "parcoords"
           }
          ],
          "pie": [
           {
            "automargin": true,
            "type": "pie"
           }
          ],
          "scatter": [
           {
            "marker": {
             "colorbar": {
              "outlinewidth": 0,
              "ticks": ""
             }
            },
            "type": "scatter"
           }
          ],
          "scatter3d": [
           {
            "line": {
             "colorbar": {
              "outlinewidth": 0,
              "ticks": ""
             }
            },
            "marker": {
             "colorbar": {
              "outlinewidth": 0,
              "ticks": ""
             }
            },
            "type": "scatter3d"
           }
          ],
          "scattercarpet": [
           {
            "marker": {
             "colorbar": {
              "outlinewidth": 0,
              "ticks": ""
             }
            },
            "type": "scattercarpet"
           }
          ],
          "scattergeo": [
           {
            "marker": {
             "colorbar": {
              "outlinewidth": 0,
              "ticks": ""
             }
            },
            "type": "scattergeo"
           }
          ],
          "scattergl": [
           {
            "marker": {
             "colorbar": {
              "outlinewidth": 0,
              "ticks": ""
             }
            },
            "type": "scattergl"
           }
          ],
          "scattermapbox": [
           {
            "marker": {
             "colorbar": {
              "outlinewidth": 0,
              "ticks": ""
             }
            },
            "type": "scattermapbox"
           }
          ],
          "scatterpolar": [
           {
            "marker": {
             "colorbar": {
              "outlinewidth": 0,
              "ticks": ""
             }
            },
            "type": "scatterpolar"
           }
          ],
          "scatterpolargl": [
           {
            "marker": {
             "colorbar": {
              "outlinewidth": 0,
              "ticks": ""
             }
            },
            "type": "scatterpolargl"
           }
          ],
          "scatterternary": [
           {
            "marker": {
             "colorbar": {
              "outlinewidth": 0,
              "ticks": ""
             }
            },
            "type": "scatterternary"
           }
          ],
          "surface": [
           {
            "colorbar": {
             "outlinewidth": 0,
             "ticks": ""
            },
            "colorscale": [
             [
              0.0,
              "#0d0887"
             ],
             [
              0.1111111111111111,
              "#46039f"
             ],
             [
              0.2222222222222222,
              "#7201a8"
             ],
             [
              0.3333333333333333,
              "#9c179e"
             ],
             [
              0.4444444444444444,
              "#bd3786"
             ],
             [
              0.5555555555555556,
              "#d8576b"
             ],
             [
              0.6666666666666666,
              "#ed7953"
             ],
             [
              0.7777777777777778,
              "#fb9f3a"
             ],
             [
              0.8888888888888888,
              "#fdca26"
             ],
             [
              1.0,
              "#f0f921"
             ]
            ],
            "type": "surface"
           }
          ],
          "table": [
           {
            "cells": {
             "fill": {
              "color": "#EBF0F8"
             },
             "line": {
              "color": "white"
             }
            },
            "header": {
             "fill": {
              "color": "#C8D4E3"
             },
             "line": {
              "color": "white"
             }
            },
            "type": "table"
           }
          ]
         },
         "layout": {
          "annotationdefaults": {
           "arrowcolor": "#2a3f5f",
           "arrowhead": 0,
           "arrowwidth": 1
          },
          "autotypenumbers": "strict",
          "coloraxis": {
           "colorbar": {
            "outlinewidth": 0,
            "ticks": ""
           }
          },
          "colorscale": {
           "diverging": [
            [
             0,
             "#8e0152"
            ],
            [
             0.1,
             "#c51b7d"
            ],
            [
             0.2,
             "#de77ae"
            ],
            [
             0.3,
             "#f1b6da"
            ],
            [
             0.4,
             "#fde0ef"
            ],
            [
             0.5,
             "#f7f7f7"
            ],
            [
             0.6,
             "#e6f5d0"
            ],
            [
             0.7,
             "#b8e186"
            ],
            [
             0.8,
             "#7fbc41"
            ],
            [
             0.9,
             "#4d9221"
            ],
            [
             1,
             "#276419"
            ]
           ],
           "sequential": [
            [
             0.0,
             "#0d0887"
            ],
            [
             0.1111111111111111,
             "#46039f"
            ],
            [
             0.2222222222222222,
             "#7201a8"
            ],
            [
             0.3333333333333333,
             "#9c179e"
            ],
            [
             0.4444444444444444,
             "#bd3786"
            ],
            [
             0.5555555555555556,
             "#d8576b"
            ],
            [
             0.6666666666666666,
             "#ed7953"
            ],
            [
             0.7777777777777778,
             "#fb9f3a"
            ],
            [
             0.8888888888888888,
             "#fdca26"
            ],
            [
             1.0,
             "#f0f921"
            ]
           ],
           "sequentialminus": [
            [
             0.0,
             "#0d0887"
            ],
            [
             0.1111111111111111,
             "#46039f"
            ],
            [
             0.2222222222222222,
             "#7201a8"
            ],
            [
             0.3333333333333333,
             "#9c179e"
            ],
            [
             0.4444444444444444,
             "#bd3786"
            ],
            [
             0.5555555555555556,
             "#d8576b"
            ],
            [
             0.6666666666666666,
             "#ed7953"
            ],
            [
             0.7777777777777778,
             "#fb9f3a"
            ],
            [
             0.8888888888888888,
             "#fdca26"
            ],
            [
             1.0,
             "#f0f921"
            ]
           ]
          },
          "colorway": [
           "#636efa",
           "#EF553B",
           "#00cc96",
           "#ab63fa",
           "#FFA15A",
           "#19d3f3",
           "#FF6692",
           "#B6E880",
           "#FF97FF",
           "#FECB52"
          ],
          "font": {
           "color": "#2a3f5f"
          },
          "geo": {
           "bgcolor": "white",
           "lakecolor": "white",
           "landcolor": "#E5ECF6",
           "showlakes": true,
           "showland": true,
           "subunitcolor": "white"
          },
          "hoverlabel": {
           "align": "left"
          },
          "hovermode": "closest",
          "mapbox": {
           "style": "light"
          },
          "paper_bgcolor": "white",
          "plot_bgcolor": "#E5ECF6",
          "polar": {
           "angularaxis": {
            "gridcolor": "white",
            "linecolor": "white",
            "ticks": ""
           },
           "bgcolor": "#E5ECF6",
           "radialaxis": {
            "gridcolor": "white",
            "linecolor": "white",
            "ticks": ""
           }
          },
          "scene": {
           "xaxis": {
            "backgroundcolor": "#E5ECF6",
            "gridcolor": "white",
            "gridwidth": 2,
            "linecolor": "white",
            "showbackground": true,
            "ticks": "",
            "zerolinecolor": "white"
           },
           "yaxis": {
            "backgroundcolor": "#E5ECF6",
            "gridcolor": "white",
            "gridwidth": 2,
            "linecolor": "white",
            "showbackground": true,
            "ticks": "",
            "zerolinecolor": "white"
           },
           "zaxis": {
            "backgroundcolor": "#E5ECF6",
            "gridcolor": "white",
            "gridwidth": 2,
            "linecolor": "white",
            "showbackground": true,
            "ticks": "",
            "zerolinecolor": "white"
           }
          },
          "shapedefaults": {
           "line": {
            "color": "#2a3f5f"
           }
          },
          "ternary": {
           "aaxis": {
            "gridcolor": "white",
            "linecolor": "white",
            "ticks": ""
           },
           "baxis": {
            "gridcolor": "white",
            "linecolor": "white",
            "ticks": ""
           },
           "bgcolor": "#E5ECF6",
           "caxis": {
            "gridcolor": "white",
            "linecolor": "white",
            "ticks": ""
           }
          },
          "title": {
           "x": 0.05
          },
          "xaxis": {
           "automargin": true,
           "gridcolor": "white",
           "linecolor": "white",
           "ticks": "",
           "title": {
            "standoff": 15
           },
           "zerolinecolor": "white",
           "zerolinewidth": 2
          },
          "yaxis": {
           "automargin": true,
           "gridcolor": "white",
           "linecolor": "white",
           "ticks": "",
           "title": {
            "standoff": 15
           },
           "zerolinecolor": "white",
           "zerolinewidth": 2
          }
         }
        },
        "xaxis": {
         "anchor": "y",
         "constrain": "domain",
         "domain": [
          0.0,
          1.0
         ],
         "scaleanchor": "y"
        },
        "yaxis": {
         "anchor": "x",
         "autorange": "reversed",
         "constrain": "domain",
         "domain": [
          0.0,
          1.0
         ]
        }
       }
      },
      "text/html": "<div>                            <div id=\"50e0140c-c7bc-4c68-9fe6-63d0a00923ae\" class=\"plotly-graph-div\" style=\"height:525px; width:100%;\"></div>            <script type=\"text/javascript\">                require([\"plotly\"], function(Plotly) {                    window.PLOTLYENV=window.PLOTLYENV || {};                                    if (document.getElementById(\"50e0140c-c7bc-4c68-9fe6-63d0a00923ae\")) {                    Plotly.newPlot(                        \"50e0140c-c7bc-4c68-9fe6-63d0a00923ae\",                        [{\"coloraxis\":\"coloraxis\",\"hovertemplate\":\"x: %{x}<br>y: %{y}<br>color: %{z}<extra></extra>\",\"name\":\"0\",\"type\":\"heatmap\",\"x\":[\"Has Max\",\"hours_traveled\",\"User_Gen_Alerts\",\"Non_User_Gen_Alerts\",\"tickets\",\"ticket_hours\",\"buildingtype_Office\"],\"xaxis\":\"x\",\"y\":[\"Has Max\",\"hours_traveled\",\"User_Gen_Alerts\",\"Non_User_Gen_Alerts\",\"tickets\",\"ticket_hours\",\"buildingtype_Office\"],\"yaxis\":\"y\",\"z\":[[1.0,-0.021807243743313588,-0.0917317498023904,-0.026359700079525823,-0.06546799083023494,-0.032260187896244776,0.13429254134883653],[-0.021807243743313588,1.0,0.12535207036291338,0.11605051184528159,0.1151515963880757,0.02531931734759472,-0.03817513537070039],[-0.0917317498023904,0.12535207036291338,1.0,0.5537574716690625,0.3767473517808032,0.1924890048364577,0.0031623675986705777],[-0.026359700079525823,0.11605051184528159,0.5537574716690625,1.0,0.50507488171464,0.2760364253670258,-0.07773416525894963],[-0.06546799083023494,0.1151515963880757,0.3767473517808032,0.50507488171464,1.0,0.5547183481398773,-0.08032185672585933],[-0.032260187896244776,0.02531931734759472,0.1924890048364577,0.2760364253670258,0.5547183481398773,1.0,0.008936690379114412],[0.13429254134883653,-0.03817513537070039,0.0031623675986705777,-0.07773416525894963,-0.08032185672585933,0.008936690379114412,1.0]]}],                        {\"coloraxis\":{\"colorscale\":[[0.0,\"#0d0887\"],[0.1111111111111111,\"#46039f\"],[0.2222222222222222,\"#7201a8\"],[0.3333333333333333,\"#9c179e\"],[0.4444444444444444,\"#bd3786\"],[0.5555555555555556,\"#d8576b\"],[0.6666666666666666,\"#ed7953\"],[0.7777777777777778,\"#fb9f3a\"],[0.8888888888888888,\"#fdca26\"],[1.0,\"#f0f921\"]]},\"margin\":{\"t\":60},\"template\":{\"data\":{\"bar\":[{\"error_x\":{\"color\":\"#2a3f5f\"},\"error_y\":{\"color\":\"#2a3f5f\"},\"marker\":{\"line\":{\"color\":\"#E5ECF6\",\"width\":0.5},\"pattern\":{\"fillmode\":\"overlay\",\"size\":10,\"solidity\":0.2}},\"type\":\"bar\"}],\"barpolar\":[{\"marker\":{\"line\":{\"color\":\"#E5ECF6\",\"width\":0.5},\"pattern\":{\"fillmode\":\"overlay\",\"size\":10,\"solidity\":0.2}},\"type\":\"barpolar\"}],\"carpet\":[{\"aaxis\":{\"endlinecolor\":\"#2a3f5f\",\"gridcolor\":\"white\",\"linecolor\":\"white\",\"minorgridcolor\":\"white\",\"startlinecolor\":\"#2a3f5f\"},\"baxis\":{\"endlinecolor\":\"#2a3f5f\",\"gridcolor\":\"white\",\"linecolor\":\"white\",\"minorgridcolor\":\"white\",\"startlinecolor\":\"#2a3f5f\"},\"type\":\"carpet\"}],\"choropleth\":[{\"colorbar\":{\"outlinewidth\":0,\"ticks\":\"\"},\"type\":\"choropleth\"}],\"contour\":[{\"colorbar\":{\"outlinewidth\":0,\"ticks\":\"\"},\"colorscale\":[[0.0,\"#0d0887\"],[0.1111111111111111,\"#46039f\"],[0.2222222222222222,\"#7201a8\"],[0.3333333333333333,\"#9c179e\"],[0.4444444444444444,\"#bd3786\"],[0.5555555555555556,\"#d8576b\"],[0.6666666666666666,\"#ed7953\"],[0.7777777777777778,\"#fb9f3a\"],[0.8888888888888888,\"#fdca26\"],[1.0,\"#f0f921\"]],\"type\":\"contour\"}],\"contourcarpet\":[{\"colorbar\":{\"outlinewidth\":0,\"ticks\":\"\"},\"type\":\"contourcarpet\"}],\"heatmap\":[{\"colorbar\":{\"outlinewidth\":0,\"ticks\":\"\"},\"colorscale\":[[0.0,\"#0d0887\"],[0.1111111111111111,\"#46039f\"],[0.2222222222222222,\"#7201a8\"],[0.3333333333333333,\"#9c179e\"],[0.4444444444444444,\"#bd3786\"],[0.5555555555555556,\"#d8576b\"],[0.6666666666666666,\"#ed7953\"],[0.7777777777777778,\"#fb9f3a\"],[0.8888888888888888,\"#fdca26\"],[1.0,\"#f0f921\"]],\"type\":\"heatmap\"}],\"heatmapgl\":[{\"colorbar\":{\"outlinewidth\":0,\"ticks\":\"\"},\"colorscale\":[[0.0,\"#0d0887\"],[0.1111111111111111,\"#46039f\"],[0.2222222222222222,\"#7201a8\"],[0.3333333333333333,\"#9c179e\"],[0.4444444444444444,\"#bd3786\"],[0.5555555555555556,\"#d8576b\"],[0.6666666666666666,\"#ed7953\"],[0.7777777777777778,\"#fb9f3a\"],[0.8888888888888888,\"#fdca26\"],[1.0,\"#f0f921\"]],\"type\":\"heatmapgl\"}],\"histogram\":[{\"marker\":{\"pattern\":{\"fillmode\":\"overlay\",\"size\":10,\"solidity\":0.2}},\"type\":\"histogram\"}],\"histogram2d\":[{\"colorbar\":{\"outlinewidth\":0,\"ticks\":\"\"},\"colorscale\":[[0.0,\"#0d0887\"],[0.1111111111111111,\"#46039f\"],[0.2222222222222222,\"#7201a8\"],[0.3333333333333333,\"#9c179e\"],[0.4444444444444444,\"#bd3786\"],[0.5555555555555556,\"#d8576b\"],[0.6666666666666666,\"#ed7953\"],[0.7777777777777778,\"#fb9f3a\"],[0.8888888888888888,\"#fdca26\"],[1.0,\"#f0f921\"]],\"type\":\"histogram2d\"}],\"histogram2dcontour\":[{\"colorbar\":{\"outlinewidth\":0,\"ticks\":\"\"},\"colorscale\":[[0.0,\"#0d0887\"],[0.1111111111111111,\"#46039f\"],[0.2222222222222222,\"#7201a8\"],[0.3333333333333333,\"#9c179e\"],[0.4444444444444444,\"#bd3786\"],[0.5555555555555556,\"#d8576b\"],[0.6666666666666666,\"#ed7953\"],[0.7777777777777778,\"#fb9f3a\"],[0.8888888888888888,\"#fdca26\"],[1.0,\"#f0f921\"]],\"type\":\"histogram2dcontour\"}],\"mesh3d\":[{\"colorbar\":{\"outlinewidth\":0,\"ticks\":\"\"},\"type\":\"mesh3d\"}],\"parcoords\":[{\"line\":{\"colorbar\":{\"outlinewidth\":0,\"ticks\":\"\"}},\"type\":\"parcoords\"}],\"pie\":[{\"automargin\":true,\"type\":\"pie\"}],\"scatter\":[{\"marker\":{\"colorbar\":{\"outlinewidth\":0,\"ticks\":\"\"}},\"type\":\"scatter\"}],\"scatter3d\":[{\"line\":{\"colorbar\":{\"outlinewidth\":0,\"ticks\":\"\"}},\"marker\":{\"colorbar\":{\"outlinewidth\":0,\"ticks\":\"\"}},\"type\":\"scatter3d\"}],\"scattercarpet\":[{\"marker\":{\"colorbar\":{\"outlinewidth\":0,\"ticks\":\"\"}},\"type\":\"scattercarpet\"}],\"scattergeo\":[{\"marker\":{\"colorbar\":{\"outlinewidth\":0,\"ticks\":\"\"}},\"type\":\"scattergeo\"}],\"scattergl\":[{\"marker\":{\"colorbar\":{\"outlinewidth\":0,\"ticks\":\"\"}},\"type\":\"scattergl\"}],\"scattermapbox\":[{\"marker\":{\"colorbar\":{\"outlinewidth\":0,\"ticks\":\"\"}},\"type\":\"scattermapbox\"}],\"scatterpolar\":[{\"marker\":{\"colorbar\":{\"outlinewidth\":0,\"ticks\":\"\"}},\"type\":\"scatterpolar\"}],\"scatterpolargl\":[{\"marker\":{\"colorbar\":{\"outlinewidth\":0,\"ticks\":\"\"}},\"type\":\"scatterpolargl\"}],\"scatterternary\":[{\"marker\":{\"colorbar\":{\"outlinewidth\":0,\"ticks\":\"\"}},\"type\":\"scatterternary\"}],\"surface\":[{\"colorbar\":{\"outlinewidth\":0,\"ticks\":\"\"},\"colorscale\":[[0.0,\"#0d0887\"],[0.1111111111111111,\"#46039f\"],[0.2222222222222222,\"#7201a8\"],[0.3333333333333333,\"#9c179e\"],[0.4444444444444444,\"#bd3786\"],[0.5555555555555556,\"#d8576b\"],[0.6666666666666666,\"#ed7953\"],[0.7777777777777778,\"#fb9f3a\"],[0.8888888888888888,\"#fdca26\"],[1.0,\"#f0f921\"]],\"type\":\"surface\"}],\"table\":[{\"cells\":{\"fill\":{\"color\":\"#EBF0F8\"},\"line\":{\"color\":\"white\"}},\"header\":{\"fill\":{\"color\":\"#C8D4E3\"},\"line\":{\"color\":\"white\"}},\"type\":\"table\"}]},\"layout\":{\"annotationdefaults\":{\"arrowcolor\":\"#2a3f5f\",\"arrowhead\":0,\"arrowwidth\":1},\"autotypenumbers\":\"strict\",\"coloraxis\":{\"colorbar\":{\"outlinewidth\":0,\"ticks\":\"\"}},\"colorscale\":{\"diverging\":[[0,\"#8e0152\"],[0.1,\"#c51b7d\"],[0.2,\"#de77ae\"],[0.3,\"#f1b6da\"],[0.4,\"#fde0ef\"],[0.5,\"#f7f7f7\"],[0.6,\"#e6f5d0\"],[0.7,\"#b8e186\"],[0.8,\"#7fbc41\"],[0.9,\"#4d9221\"],[1,\"#276419\"]],\"sequential\":[[0.0,\"#0d0887\"],[0.1111111111111111,\"#46039f\"],[0.2222222222222222,\"#7201a8\"],[0.3333333333333333,\"#9c179e\"],[0.4444444444444444,\"#bd3786\"],[0.5555555555555556,\"#d8576b\"],[0.6666666666666666,\"#ed7953\"],[0.7777777777777778,\"#fb9f3a\"],[0.8888888888888888,\"#fdca26\"],[1.0,\"#f0f921\"]],\"sequentialminus\":[[0.0,\"#0d0887\"],[0.1111111111111111,\"#46039f\"],[0.2222222222222222,\"#7201a8\"],[0.3333333333333333,\"#9c179e\"],[0.4444444444444444,\"#bd3786\"],[0.5555555555555556,\"#d8576b\"],[0.6666666666666666,\"#ed7953\"],[0.7777777777777778,\"#fb9f3a\"],[0.8888888888888888,\"#fdca26\"],[1.0,\"#f0f921\"]]},\"colorway\":[\"#636efa\",\"#EF553B\",\"#00cc96\",\"#ab63fa\",\"#FFA15A\",\"#19d3f3\",\"#FF6692\",\"#B6E880\",\"#FF97FF\",\"#FECB52\"],\"font\":{\"color\":\"#2a3f5f\"},\"geo\":{\"bgcolor\":\"white\",\"lakecolor\":\"white\",\"landcolor\":\"#E5ECF6\",\"showlakes\":true,\"showland\":true,\"subunitcolor\":\"white\"},\"hoverlabel\":{\"align\":\"left\"},\"hovermode\":\"closest\",\"mapbox\":{\"style\":\"light\"},\"paper_bgcolor\":\"white\",\"plot_bgcolor\":\"#E5ECF6\",\"polar\":{\"angularaxis\":{\"gridcolor\":\"white\",\"linecolor\":\"white\",\"ticks\":\"\"},\"bgcolor\":\"#E5ECF6\",\"radialaxis\":{\"gridcolor\":\"white\",\"linecolor\":\"white\",\"ticks\":\"\"}},\"scene\":{\"xaxis\":{\"backgroundcolor\":\"#E5ECF6\",\"gridcolor\":\"white\",\"gridwidth\":2,\"linecolor\":\"white\",\"showbackground\":true,\"ticks\":\"\",\"zerolinecolor\":\"white\"},\"yaxis\":{\"backgroundcolor\":\"#E5ECF6\",\"gridcolor\":\"white\",\"gridwidth\":2,\"linecolor\":\"white\",\"showbackground\":true,\"ticks\":\"\",\"zerolinecolor\":\"white\"},\"zaxis\":{\"backgroundcolor\":\"#E5ECF6\",\"gridcolor\":\"white\",\"gridwidth\":2,\"linecolor\":\"white\",\"showbackground\":true,\"ticks\":\"\",\"zerolinecolor\":\"white\"}},\"shapedefaults\":{\"line\":{\"color\":\"#2a3f5f\"}},\"ternary\":{\"aaxis\":{\"gridcolor\":\"white\",\"linecolor\":\"white\",\"ticks\":\"\"},\"baxis\":{\"gridcolor\":\"white\",\"linecolor\":\"white\",\"ticks\":\"\"},\"bgcolor\":\"#E5ECF6\",\"caxis\":{\"gridcolor\":\"white\",\"linecolor\":\"white\",\"ticks\":\"\"}},\"title\":{\"x\":0.05},\"xaxis\":{\"automargin\":true,\"gridcolor\":\"white\",\"linecolor\":\"white\",\"ticks\":\"\",\"title\":{\"standoff\":15},\"zerolinecolor\":\"white\",\"zerolinewidth\":2},\"yaxis\":{\"automargin\":true,\"gridcolor\":\"white\",\"linecolor\":\"white\",\"ticks\":\"\",\"title\":{\"standoff\":15},\"zerolinecolor\":\"white\",\"zerolinewidth\":2}}},\"xaxis\":{\"anchor\":\"y\",\"constrain\":\"domain\",\"domain\":[0.0,1.0],\"scaleanchor\":\"y\"},\"yaxis\":{\"anchor\":\"x\",\"autorange\":\"reversed\",\"constrain\":\"domain\",\"domain\":[0.0,1.0]}},                        {\"responsive\": true}                    ).then(function(){\n                            \nvar gd = document.getElementById('50e0140c-c7bc-4c68-9fe6-63d0a00923ae');\nvar x = new MutationObserver(function (mutations, observer) {{\n        var display = window.getComputedStyle(gd).display;\n        if (!display || display === 'none') {{\n            console.log([gd, 'removed!']);\n            Plotly.purge(gd);\n            observer.disconnect();\n        }}\n}});\n\n// Listen for the removal of the full notebook cells\nvar notebookContainer = gd.closest('#notebook-container');\nif (notebookContainer) {{\n    x.observe(notebookContainer, {childList: true});\n}}\n\n// Listen for the clearing of the current output cell\nvar outputEl = gd.closest('.output');\nif (outputEl) {{\n    x.observe(outputEl, {childList: true});\n}}\n\n                        })                };                });            </script>        </div>"
     },
     "metadata": {},
     "output_type": "display_data"
    }
   ],
   "source": [
    "import matplotlib.pyplot as plt\n",
    "import plotly.express as px\n",
    "df = data.x_train[\n",
    "    ['Has Max',\n",
    "    'hours_traveled',\n",
    "    'User_Gen_Alerts',\n",
    "    'Non_User_Gen_Alerts',\n",
    "    'tickets',\n",
    "    'ticket_hours',\n",
    "    'buildingtype_Office']\n",
    "]\n",
    "# f = plt.figure(figsize=(19, 15))\n",
    "# my_dpi = 45\n",
    "# # f = plt.figure(figsize=(800/my_dpi, 800/my_dpi), dpi=my_dpi)\n",
    "# plt.matshow(corr, fignum=f.number)\n",
    "# plt.xticks(range(df.select_dtypes(['number']).shape[1]), df.select_dtypes(['number']).columns, fontsize=24, rotation=45)\n",
    "# plt.yticks(range(df.select_dtypes(['number']).shape[1]), df.select_dtypes(['number']).columns, fontsize=24)\n",
    "# cb = plt.colorbar()\n",
    "# cb.ax.tick_params(labelsize=18)\n",
    "# plt.title('Correlation Matrix', fontsize=20)\n",
    "fig = px.imshow(corr)\n",
    "fig.show()"
   ],
   "metadata": {
    "collapsed": false,
    "pycharm": {
     "name": "#%%\n"
    }
   }
  },
  {
   "cell_type": "markdown",
   "source": [
    "# Logistic Regression Classifier"
   ],
   "metadata": {
    "collapsed": false,
    "pycharm": {
     "name": "#%% md\n"
    }
   }
  },
  {
   "cell_type": "code",
   "execution_count": 17,
   "outputs": [
    {
     "name": "stdout",
     "output_type": "stream",
     "text": [
      "Basic Model\n",
      "Train Accuracy: 0.7573333333333333\n",
      "Test Accuracy: 0.6909090909090909\n"
     ]
    },
    {
     "name": "stderr",
     "output_type": "stream",
     "text": [
      "/Users/whitmanblass/.pyenv/versions/3.7.3/lib/python3.7/site-packages/sklearn/linear_model/_logistic.py:818: ConvergenceWarning:\n",
      "\n",
      "lbfgs failed to converge (status=1):\n",
      "STOP: TOTAL NO. of ITERATIONS REACHED LIMIT.\n",
      "\n",
      "Increase the number of iterations (max_iter) or scale the data as shown in:\n",
      "    https://scikit-learn.org/stable/modules/preprocessing.html\n",
      "Please also refer to the documentation for alternative solver options:\n",
      "    https://scikit-learn.org/stable/modules/linear_model.html#logistic-regression\n",
      "\n"
     ]
    }
   ],
   "source": [
    "class LogClassifier():\n",
    "\n",
    "    def logisticClassifier(self,x_train,x_test, y_train):\n",
    "        # TODO: Create a RandomForestClassifier and train it. Set Random state to 614.\n",
    "        # args: pandas dataframe, pandas dataframe, pandas series\n",
    "        # return: RandomForestClassifier object, numpy array, numpy array\n",
    "        # -------------------------------\n",
    "        clf = LogisticRegression(random_state=614)\n",
    "        clf.fit(x_train, y_train)\n",
    "        y_predict_train = clf.predict(x_train)\n",
    "        y_predict_test = clf.predict(x_test)\n",
    "        # -------------------------------\n",
    "        return clf, y_predict_train, y_predict_test\n",
    "\n",
    "    def rfTrainAccuracy(self,y_train,y_predict_train):\n",
    "        # TODO: Return accuracy on the training set using the accuracy_score method.\n",
    "        # args: pandas series, numpy array\n",
    "        # return: float\n",
    "        # -------------------------------\n",
    "        train_accuracy = accuracy_score(y_train, y_predict_train)\n",
    "        # -------------------------------\n",
    "        return train_accuracy\n",
    "\n",
    "    def rfTestAccuracy(self,y_test,y_predict_test):\n",
    "        # TODO: Return accuracy on the test set using the accuracy_score method.\n",
    "        # args: pandas series, numpy array\n",
    "        # return: float\n",
    "        # -------------------------------\n",
    "        test_accuracy = accuracy_score(y_test, y_predict_test)\n",
    "        # -------------------------------\n",
    "        return test_accuracy\n",
    "\n",
    "#Feature Importance\n",
    "\n",
    "    def rfGetParams(self,clf):\n",
    "        # TODO: Determine the feature importance as evaluated by the Random Forest Classifier.\n",
    "        # args: RandomForestClassifier object\n",
    "        # return: float array\n",
    "        # -------------------------------\n",
    "        params = clf.get_params()\n",
    "        # -------------------------------\n",
    "        return params\n",
    "##################################################\n",
    "##### Do not add anything below this line ########\n",
    "log_model = LogClassifier()\n",
    "clf, y_predict_train, y_predict_test = log_model.logisticClassifier(x_train = data.x_train, x_test = data.x_test, y_train = data.y_train)\n",
    "train_accuracy = log_model.rfTrainAccuracy(data.y_train, y_predict_train)\n",
    "print('Basic Model')\n",
    "print(f'Train Accuracy: {train_accuracy}')\n",
    "test_accuracy = log_model.rfTestAccuracy(data.y_test, y_predict_test)\n",
    "print(f'Test Accuracy: {test_accuracy}')\n",
    "\n",
    "# est = sm.OLS(data.y_train, data.x_train[['Has Max']])\n",
    "# est2 = est.fit()\n",
    "# print(est2.summary())"
   ],
   "metadata": {
    "collapsed": false,
    "pycharm": {
     "name": "#%%\n"
    }
   }
  },
  {
   "cell_type": "code",
   "execution_count": null,
   "outputs": [],
   "source": [],
   "metadata": {
    "collapsed": false,
    "pycharm": {
     "name": "#%%\n"
    }
   }
  },
  {
   "cell_type": "markdown",
   "metadata": {
    "colab_type": "text",
    "id": "WbqnCyHAcWvP"
   },
   "source": [
    "# Random Forest Classifier"
   ]
  },
  {
   "cell_type": "code",
   "execution_count": 18,
   "outputs": [
    {
     "name": "stdout",
     "output_type": "stream",
     "text": [
      "Basic Model\n",
      "Train Accuracy: 1.0\n",
      "Test Accuracy: 0.793939393939394\n",
      "Sorted Features (by importance):\n",
      "...1. 0.287249072216247  hours_traveled\n",
      "...2. 0.09665018539769779  User_Gen_Alerts\n",
      "...3. 0.08139427975691284  Non_User_Gen_Alerts\n",
      "...4. 0.07266944948851302  buildingtype_Office\n",
      "...5. 0.0721680477657909  ticket_hours\n",
      "...6. 0.06552022576753447  tickets\n",
      "...7. 0.05311429427722605  buildingtype_Hospital / Healthcare\n",
      "...8. 0.03671733898412571  buildingtype_0\n",
      "...9. 0.032617994923565666  Has Max\n",
      "...10. 0.024472772566230535  contracttypelocale_NIM\n",
      "...11. 0.022787626562461933  buildingtype_Parking Garage\n",
      "...12. 0.02148343585257382  contracttypelocale_Gold w/ Phone Monitoring\n",
      "...13. 0.017490356257876465  buildingtype_Hotel / Restaurant\n",
      "...14. 0.016588286475109577  buildingtype_Private Residential - Comfort *\n",
      "...15. 0.01608332497612114  buildingtype_Education / Religion\n",
      "Tuning:\n",
      "Best Parameters: {'max_depth': 16, 'n_estimators': 16}\n",
      "bestScore: 0.8573333333333333\n",
      "Tuned Model\n",
      "Tuned Train Accuracy: 0.868\n"
     ]
    }
   ],
   "source": [
    "#export\n",
    "class RFClassifier():\n",
    "\n",
    "    def randomForestClassifier(self,x_train,x_test, y_train):\n",
    "        # TODO: Create a RandomForestClassifier and train it. Set Random state to 614.\n",
    "        # args: pandas dataframe, pandas dataframe, pandas series\n",
    "        # return: RandomForestClassifier object, numpy array, numpy array\n",
    "        # -------------------------------\n",
    "        rf_clf = RandomForestClassifier(random_state=614)\n",
    "        rf_clf.fit(x_train, y_train)\n",
    "        y_predict_train = rf_clf.predict(x_train)\n",
    "        y_predict_test = rf_clf.predict(x_test)\n",
    "        # -------------------------------\n",
    "        return rf_clf, y_predict_train, y_predict_test\n",
    "\n",
    "    def rfTrainAccuracy(self,y_train,y_predict_train):\n",
    "        # TODO: Return accuracy on the training set using the accuracy_score method.\n",
    "        # args: pandas series, numpy array\n",
    "        # return: float\n",
    "        # -------------------------------\n",
    "        train_accuracy = accuracy_score(y_train, y_predict_train)\n",
    "        # -------------------------------\n",
    "        return train_accuracy\n",
    "\n",
    "    def rfTestAccuracy(self,y_test,y_predict_test):\n",
    "        # TODO: Return accuracy on the test set using the accuracy_score method.\n",
    "        # args: pandas series, numpy array\n",
    "        # return: float\n",
    "        # -------------------------------\n",
    "        test_accuracy = accuracy_score(y_test, y_predict_test)\n",
    "        # -------------------------------\n",
    "        return test_accuracy\n",
    "\n",
    "#Feature Importance\n",
    "\n",
    "    def rfFeatureImportance(self,rf_clf):\n",
    "        # TODO: Determine the feature importance as evaluated by the Random Forest Classifier.\n",
    "        # args: RandomForestClassifier object\n",
    "        # return: float array\n",
    "        # -------------------------------\n",
    "        feature_importance = rf_clf.feature_importances_\n",
    "        # sorted_indices = np.argsort(importances)[::-1]\n",
    "        # feature_importance = importances[sorted_indices]\n",
    "        # -------------------------------\n",
    "        return feature_importance\n",
    "\n",
    "    def sortedRFFeatureImportanceIndicies(self,rf_clf):\n",
    "        # TODO: Sort them in the descending order and return the feature numbers[0 to ...].\n",
    "        #       Hint: There is a direct function available in sklearn to achieve this. Also checkout argsort() function in Python.\n",
    "        # args: RandomForestClassifier object\n",
    "        # return: int array\n",
    "        # -------------------------------\n",
    "        feature_importance = rf_clf.feature_importances_\n",
    "        sorted_indices = np.argsort(feature_importance)[::-1]\n",
    "        # -------------------------------\n",
    "        return sorted_indices\n",
    "\n",
    "#Hyper-parameter Tuning\n",
    "\n",
    "    def hyperParameterTuning(self,rf_clf,x_train,y_train):\n",
    "        # TODO: Tune the hyper-parameters 'n_estimators' and 'max_depth'.\n",
    "        # Define param_grid for GridSearchCV as a dictionary\n",
    "        # args: RandomForestClassifier object, pandas dataframe, pandas series\n",
    "        # return: GridSearchCV object\n",
    "        # -------------------------------\n",
    "        param_grid = {'n_estimators':[4,16,256], 'max_depth':[2, 8, 16]}\n",
    "        gscv_rfc = GridSearchCV(rf_clf, param_grid)\n",
    "        gscv_rfc.fit(x_train, y_train)\n",
    "        # -------------------------------\n",
    "        return gscv_rfc\n",
    "\n",
    "    def bestParams(self,gscv_rfc):\n",
    "        # TODO: Get the best params, using .best_params_\n",
    "        # args:  GridSearchCV object\n",
    "        # return: parameter dict\n",
    "        # -------------------------------\n",
    "        best_params = gscv_rfc.best_params_\n",
    "        # -------------------------------\n",
    "        return best_params\n",
    "\n",
    "    def bestScore(self,gscv_rfc):\n",
    "        # TODO: Get the best score, using .best_score_.\n",
    "        # args: GridSearchCV object\n",
    "        # return: float\n",
    "        # -------------------------------\n",
    "        best_score = gscv_rfc.best_score_\n",
    "        # -------------------------------\n",
    "        return best_score\n",
    "\n",
    "    def randomForestClassifier_Tuned(self,x_train,x_test, y_train):\n",
    "        # TODO: Create a RandomForestClassifier and train it. Set Random state to 614.\n",
    "        # args: pandas dataframe, pandas dataframe, pandas series\n",
    "        # return: RandomForestClassifier object, numpy array, numpy array\n",
    "        # -------------------------------\n",
    "        rf_clf = RandomForestClassifier(random_state=614, max_depth=8, n_estimators=4)\n",
    "        rf_clf.fit(x_train, y_train)\n",
    "        y_predict_train = rf_clf.predict(x_train)\n",
    "        y_predict_test = rf_clf.predict(x_test)\n",
    "        # -------------------------------\n",
    "        return rf_clf, y_predict_train, y_predict_test\n",
    "\n",
    "##################################################\n",
    "##### Do not add anything below this line ########\n",
    "forest = RFClassifier()\n",
    "rf_clf, y_predict_train, y_predict_test = forest.randomForestClassifier(x_train = data.x_train, x_test = data.x_test, y_train = data.y_train)\n",
    "train_accuracy = forest.rfTrainAccuracy(data.y_train, y_predict_train)\n",
    "print('Basic Model')\n",
    "print(f'Train Accuracy: {train_accuracy}')\n",
    "test_accuracy = forest.rfTestAccuracy(data.y_test, y_predict_test)\n",
    "print(f'Test Accuracy: {test_accuracy}')\n",
    "feature_importance = forest.rfFeatureImportance(rf_clf)\n",
    "sorted_indices = forest.sortedRFFeatureImportanceIndicies(rf_clf)\n",
    "print(\"Sorted Features (by importance):\")\n",
    "n = 1\n",
    "for ind in sorted_indices:\n",
    "    print(f'...{n}. {feature_importance[ind]}  {features[ind]}')\n",
    "    n+=1\n",
    "    if n ==16:\n",
    "        break\n",
    "gscv_rfc = forest.hyperParameterTuning(rf_clf, data.x_train, data.y_train)\n",
    "best_params = forest.bestParams(gscv_rfc)\n",
    "print('Tuning:')\n",
    "print(f'Best Parameters: {best_params}')\n",
    "bestScore = forest.bestScore(gscv_rfc)\n",
    "print(f'bestScore: {bestScore}')\n",
    "tuned_rf_clf, tuned_y_predict_train, tuned_y_predict_test = forest.randomForestClassifier_Tuned(x_train = data.x_train, x_test = data.x_test, y_train = data.y_train)\n",
    "print('Tuned Model')\n",
    "tuned_train_accuracy = forest.rfTrainAccuracy(data.y_train, tuned_y_predict_train)\n",
    "print(f'Tuned Train Accuracy: {tuned_train_accuracy}')\n",
    "tuned_test_accuracy = forest.rfTestAccuracy(data.y_test, tuned_y_predict_test)\n",
    "# print(f'Tuned Test Accuracy: {tuned_test_accuracy}')\n",
    "##################################################"
   ],
   "metadata": {
    "collapsed": false,
    "pycharm": {
     "name": "#%%\n"
    }
   }
  },
  {
   "cell_type": "markdown",
   "source": [
    "# SVM Classifier"
   ],
   "metadata": {
    "collapsed": false,
    "pycharm": {
     "name": "#%% md\n"
    }
   }
  },
  {
   "cell_type": "code",
   "execution_count": 19,
   "outputs": [
    {
     "name": "stdout",
     "output_type": "stream",
     "text": [
      "Basic Model\n",
      "Train Accuracy: 0.8466666666666667\n",
      "Test Accuracy: 0.7696969696969697\n",
      "Best Accuracy: 0.8066666666666666\n"
     ]
    }
   ],
   "source": [
    "#export\n",
    "class SupportVectorMachine():\n",
    "\n",
    "    def dataPreProcess(self,x_train,x_test):\n",
    "        # TODO: Pre-process the data to standardize it, otherwise the grid search will take much longer.\n",
    "        # args: pandas dataframe, pandas dataframe\n",
    "        # return: pandas dataframe, pandas dataframe\n",
    "        # -------------------------------\n",
    "        scaler = StandardScaler()\n",
    "        scaler.fit(x_train)\n",
    "        scaled_x_train = scaler.transform(x_train)\n",
    "        scaled_x_test = scaler.transform(x_test)\n",
    "        # -------------------------------\n",
    "        return scaled_x_train, scaled_x_test\n",
    "\n",
    "    def SVCClassifier(self,scaled_x_train,scaled_x_test, y_train):\n",
    "        # TODO: Create a SVC classifier and train it. Set gamma = 'auto'\n",
    "        # args: pandas dataframe, pandas dataframe, pandas series\n",
    "        # return: numpy array, numpy array\n",
    "        # -------------------------------\n",
    "        clf = SVC(gamma='auto')\n",
    "        clf.fit(scaled_x_train, y_train)\n",
    "        y_predict_train = clf.predict(scaled_x_train)\n",
    "        y_predict_test = clf.predict(scaled_x_test)\n",
    "        # -------------------------------\n",
    "        return y_predict_train,y_predict_test\n",
    "\n",
    "    def SVCTrainAccuracy(self,y_train,y_predict_train):\n",
    "        # TODO: Return accuracy on the training set using the accuracy_score method.\n",
    "        # args: pandas series, numpy array\n",
    "        # return: float\n",
    "        # -------------------------------\n",
    "        train_accuracy = accuracy_score(y_train, y_predict_train)\n",
    "        # -------------------------------\n",
    "        return train_accuracy\n",
    "\n",
    "    def SVCTestAccuracy(self,y_test,y_predict_test):\n",
    "        # TODO: Return accuracy on the test set using the accuracy_score method.\n",
    "        # args: pandas series, numpy array\n",
    "        # return: float\n",
    "        # -------------------------------\n",
    "        test_accuracy = accuracy_score(y_test, y_predict_test)\n",
    "        # -------------------------------\n",
    "        return test_accuracy\n",
    "\n",
    "    def SVMBestScore(self, scaled_x_train, y_train):\n",
    "        # TODO: Tune the hyper-parameters 'C' and 'kernel' (use rbf and linear).\n",
    "        # Note: Set n_jobs = -1 and return_train_score = True and gamma = 'auto'\n",
    "        # args: pandas dataframe, pandas series\n",
    "        # return: GridSearchCV object, float\n",
    "        # -------------------------------\n",
    "        svm_parameters = {'kernel':('linear', 'rbf'), 'C':[0.01, 0.1, 1.0]}\n",
    "        clf = SVC(gamma='auto')\n",
    "        svm_cv = GridSearchCV(\n",
    "            clf, svm_parameters, scoring=None, n_jobs=-1, refit=True, return_train_score=True)\n",
    "        svm_cv.fit(scaled_x_train, y_train)\n",
    "        best_score = svm_cv.best_score_\n",
    "        # -------------------------------\n",
    "        return svm_cv, best_score\n",
    "\n",
    "    def SVCClassifierParam(self,svm_cv,scaled_x_train,scaled_x_test,y_train):\n",
    "        # TODO: Calculate the training and test set predicted values after hyperparameter tuning and standardization.\n",
    "        # args: GridSearchCV object, pandas dataframe, pandas dataframe, pandas series\n",
    "        # return: numpy series, numpy series\n",
    "        # -------------------------------\n",
    "        y_predict_train = svm_cv.predict(scaled_x_train)\n",
    "        y_predict_test = svm_cv.predict(scaled_x_test)\n",
    "        # -------------------------------\n",
    "        return y_predict_train,y_predict_test\n",
    "\n",
    "    def svcTrainAccuracy(self,y_train,y_predict_train):\n",
    "        # TODO: Return accuracy (on the training set) using the accuracy_score method.\n",
    "        # args: pandas series, numpy array\n",
    "        # return: float\n",
    "        # -------------------------------\n",
    "        train_accuracy = accuracy_score(y_train, y_predict_train)\n",
    "        # -------------------------------\n",
    "        return train_accuracy\n",
    "\n",
    "    def svcTestAccuracy(self,y_test,y_predict_test):\n",
    "        # TODO: Return accuracy (on the test set) using the accuracy_score method.\n",
    "        # args: pandas series, numpy array\n",
    "        # return: float\n",
    "        # -------------------------------\n",
    "        test_accuracy = accuracy_score(y_test, y_predict_test)\n",
    "        # -------------------------------\n",
    "        return test_accuracy\n",
    "\n",
    "#Cross Validation Results\n",
    "\n",
    "    def SVMRankTestScore(self,svm_cv):\n",
    "        # TODO: Return the rank test score for all hyperparameter values that you obtained in Q3.4.3. The\n",
    "        # GridSearchCV class holds a 'cv_results_' dictionary that should help you report these metrics easily.\n",
    "        # args: GridSearchCV object\n",
    "        # return: int array\n",
    "        # -------------------------------\n",
    "        rank_test_score = svm_cv.cv_results_['rank_test_score']\n",
    "        # -------------------------------\n",
    "        return rank_test_score\n",
    "\n",
    "    def SVMMeanTestScore(self,svm_cv):\n",
    "        # TODO: Return mean test score for all of hyperparameter values that you obtained in Q3.4.3. The\n",
    "        # GridSearchCV class holds a 'cv_results_' dictionary that should help you report these metrics easily.\n",
    "        # args: GridSearchCV object\n",
    "        # return: float array\n",
    "        # -------------------------------\n",
    "        mean_test_score = svm_cv.cv_results_['mean_test_score']\n",
    "        # -------------------------------\n",
    "        return mean_test_score\n",
    "\n",
    "##################################################\n",
    "##### Do not add anything below this line ########\n",
    "svm = SupportVectorMachine()\n",
    "scaled_x_train, scaled_x_test = svm.dataPreProcess(data.x_train,data.x_test)\n",
    "y_predict_train,y_predict_test = svm.SVCClassifier(scaled_x_train,scaled_x_test, data.y_train)\n",
    "test_accuracy = svm.SVCTestAccuracy(data.y_test, y_predict_test)\n",
    "train_accuracy = svm.SVCTestAccuracy(data.y_train, y_predict_train)\n",
    "print('Basic Model')\n",
    "print(f'Train Accuracy: {train_accuracy}')\n",
    "print(f'Test Accuracy: {test_accuracy}')\n",
    "tune_svm, best_accuracy = svm.SVMBestScore(scaled_x_train, data.y_train)\n",
    "print(f'Best Accuracy: {best_accuracy}')"
   ],
   "metadata": {
    "collapsed": false,
    "pycharm": {
     "name": "#%%\n"
    }
   }
  },
  {
   "cell_type": "markdown",
   "source": [
    "radial basis function kernel"
   ],
   "metadata": {
    "collapsed": false,
    "pycharm": {
     "name": "#%% md\n"
    }
   }
  },
  {
   "cell_type": "code",
   "execution_count": null,
   "outputs": [],
   "source": [],
   "metadata": {
    "collapsed": false,
    "pycharm": {
     "name": "#%%\n"
    }
   }
  }
 ],
 "metadata": {
  "colab": {
   "name": "hw4q3.soln.ipynb",
   "provenance": []
  },
  "kernelspec": {
   "display_name": "Python 3 (ipykernel)",
   "language": "python",
   "name": "python3"
  },
  "language_info": {
   "codemirror_mode": {
    "name": "ipython",
    "version": 2
   },
   "file_extension": ".py",
   "mimetype": "text/x-python",
   "name": "python",
   "nbconvert_exporter": "python",
   "pygments_lexer": "ipython2",
   "version": "2.7.18"
  }
 },
 "nbformat": 4,
 "nbformat_minor": 1
}